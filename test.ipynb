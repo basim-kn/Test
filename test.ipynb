{
 "cells": [
  {
   "cell_type": "code",
   "execution_count": 1,
   "id": "d8655772",
   "metadata": {},
   "outputs": [
    {
     "name": "stdout",
     "output_type": "stream",
     "text": [
      "master\n"
     ]
    }
   ],
   "source": [
    "print(\"master\")"
   ]
  },
  {
   "cell_type": "code",
   "execution_count": null,
   "id": "a25550b0",
   "metadata": {},
   "outputs": [],
   "source": [
    "print(\"edit1\")"
   ]
  },
  {
   "cell_type": "code",
   "execution_count": null,
   "id": "3ca9c77b",
   "metadata": {},
   "outputs": [],
   "source": [
    "print(\"edit2\")"
   ]
  }
 ],
 "metadata": {
  "kernelspec": {
   "display_name": "Python 3 (ipykernel)",
   "language": "python",
   "name": "python3"
  },
  "language_info": {
   "codemirror_mode": {
    "name": "ipython",
    "version": 3
   },
   "file_extension": ".py",
   "mimetype": "text/x-python",
   "name": "python",
   "nbconvert_exporter": "python",
   "pygments_lexer": "ipython3",
   "version": "3.10.9"
  }
 },
 "nbformat": 4,
 "nbformat_minor": 5
}
