{
 "cells": [
  {
   "cell_type": "code",
   "execution_count": 1,
   "id": "665520c1",
   "metadata": {},
   "outputs": [
    {
     "name": "stdout",
     "output_type": "stream",
     "text": [
      "master\n"
     ]
    }
   ],
   "source": [
    "print(\"master\")"
   ]
  },
  {
   "cell_type": "code",
   "execution_count": null,
   "id": "ccbd8dbb",
   "metadata": {},
   "outputs": [],
   "source": [
    "print(\"edit1\")"
   ]
  },
  {
   "cell_type": "code",
   "execution_count": null,
   "id": "7667cf70",
   "metadata": {},
   "outputs": [],
   "source": [
    "print(\"edit2\")"
   ]
  },
  {
   "cell_type": "code",
   "execution_count": null,
   "id": "aef78ee3",
   "metadata": {},
   "outputs": [],
   "source": [
    "print(\"branch1\")"
   ]
  }
 ],
 "metadata": {
  "kernelspec": {
   "display_name": "Python 3 (ipykernel)",
   "language": "python",
   "name": "python3"
  },
  "language_info": {
   "codemirror_mode": {
    "name": "ipython",
    "version": 3
   },
   "file_extension": ".py",
   "mimetype": "text/x-python",
   "name": "python",
   "nbconvert_exporter": "python",
   "pygments_lexer": "ipython3",
   "version": "3.10.9"
  }
 },
 "nbformat": 4,
 "nbformat_minor": 5
}
