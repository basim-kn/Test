{
 "cells": [
  {
   "cell_type": "code",
   "execution_count": 1,
   "id": "1f45e072",
   "metadata": {},
   "outputs": [
    {
     "name": "stdout",
     "output_type": "stream",
     "text": [
      "master\n"
     ]
    }
   ],
   "source": [
    "print(\"master\")"
   ]
  },
  {
   "cell_type": "code",
   "execution_count": null,
   "id": "196e6a52",
   "metadata": {},
   "outputs": [],
   "source": [
    "print(\"edit1\")"
   ]
  },
  {
   "cell_type": "code",
   "execution_count": null,
   "id": "3e065b32",
   "metadata": {},
   "outputs": [],
   "source": [
    "print(\"edit2\")"
   ]
  },
  {
   "cell_type": "code",
   "execution_count": null,
   "id": "bf107b26",
   "metadata": {},
   "outputs": [],
   "source": [
    "print(\"branch1\")"
   ]
  },
  {
   "cell_type": "code",
   "execution_count": null,
   "id": "dc5adc44",
   "metadata": {},
   "outputs": [],
   "source": [
    "print(\"edit1\")"
   ]
  }
 ],
 "metadata": {
  "kernelspec": {
   "display_name": "Python 3 (ipykernel)",
   "language": "python",
   "name": "python3"
  },
  "language_info": {
   "codemirror_mode": {
    "name": "ipython",
    "version": 3
   },
   "file_extension": ".py",
   "mimetype": "text/x-python",
   "name": "python",
   "nbconvert_exporter": "python",
   "pygments_lexer": "ipython3",
   "version": "3.10.9"
  }
 },
 "nbformat": 4,
 "nbformat_minor": 5
}
